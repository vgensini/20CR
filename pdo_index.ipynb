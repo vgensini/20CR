{
 "cells": [
  {
   "cell_type": "markdown",
   "id": "bbceaf4a-8d99-4372-bbca-5ec50b71e143",
   "metadata": {},
   "source": [
    "# Calculating the PDO"
   ]
  },
  {
   "cell_type": "markdown",
   "id": "905eba9d-8791-4780-a185-d47f0a4955ae",
   "metadata": {},
   "source": [
    "#### The data comes from the 20th Century Reanalysis (Version 3).\n",
    "- Data spans from 01-01-1836 to 12-31-2015.\n",
    "- Skin temperture is used along with a land sea mask to aquire just sea surface temperature.\n",
    "\n",
    "Data can be aquired from the PSL Thredds server:\n",
    "- https://psl.noaa.gov/thredds/catalog/Datasets/20thC_ReanV3/catalog.html"
   ]
  },
  {
   "cell_type": "code",
   "execution_count": 1,
   "id": "e533934d-d474-434a-a471-ad107c1ca537",
   "metadata": {},
   "outputs": [],
   "source": [
    "import xarray as xr\n",
    "import numpy as np\n",
    "import datetime as dt\n",
    "import matplotlib.pyplot as plt\n",
    "import cartopy\n",
    "from eofs.standard import Eof"
   ]
  },
  {
   "cell_type": "markdown",
   "id": "4ca1a0b7-109c-47bf-8825-6478194f0286",
   "metadata": {},
   "source": [
    "#### The land sea mask was manipulated to have NaN values for land and 1 for water. The mask is then multiplied by skin temperature to get values just over water."
   ]
  },
  {
   "cell_type": "code",
   "execution_count": 2,
   "id": "1c600c06-914c-4a7e-aff6-6493372f0bb0",
   "metadata": {},
   "outputs": [],
   "source": [
    "# Had to switch the values to make land NaN and water 1\n",
    "mask = xr.open_dataset('/home/scratch/20CR_v3/mask.nc')"
   ]
  },
  {
   "cell_type": "code",
   "execution_count": 3,
   "id": "f9466292-b943-4807-8d65-79caf98c4915",
   "metadata": {},
   "outputs": [
    {
     "name": "stdout",
     "output_type": "stream",
     "text": [
      "CPU times: user 42.1 s, sys: 1min 22s, total: 2min 4s\n",
      "Wall time: 2min 4s\n"
     ]
    }
   ],
   "source": [
    "%%time\n",
    "# The data was combined into one file for all years. Mean and standard deviation were alos calculated.\n",
    "dailyskt = xr.open_dataset('/home/scratch/20CR_v3/daily_skt_1836_2015.nc')*mask.land\n",
    "meanskt = xr.open_dataset('/home/scratch/20CR_v3/climos/skint_mean_dayofyear_1836_2015.nc')*mask.land\n",
    "stdevskt = xr.open_dataset('/home/scratch/20CR_v3/climos/skint_stdev_dayofyear_1836_2015.nc')*mask.land"
   ]
  },
  {
   "cell_type": "markdown",
   "id": "e3c10a18-45aa-4970-afce-8d34b3993ebe",
   "metadata": {},
   "source": [
    "#### Slicing to the core region in the Pacific"
   ]
  },
  {
   "cell_type": "code",
   "execution_count": 4,
   "id": "0052db9d-3c49-4027-966b-b9455abd3dd9",
   "metadata": {
    "tags": []
   },
   "outputs": [],
   "source": [
    "# Slice the data to the core region\n",
    "dailyskt = dailyskt.sel(lat=slice(20, 70), lon=slice(110, 260))\n",
    "meanskt = meanskt.sel(lat=slice(20, 70), lon=slice(110, 260))\n",
    "stdevskt = stdevskt.sel(lat=slice(20, 70), lon=slice(110, 260))"
   ]
  },
  {
   "cell_type": "markdown",
   "id": "f2d0d89f-b9ea-418a-809a-4fba5acf6b4a",
   "metadata": {},
   "source": [
    "#### Standardized anomaly calculation"
   ]
  },
  {
   "cell_type": "code",
   "execution_count": 5,
   "id": "220f8e49-4f6b-46e6-9b04-5283fa942d2b",
   "metadata": {},
   "outputs": [
    {
     "name": "stdout",
     "output_type": "stream",
     "text": [
      "CPU times: user 7min 21s, sys: 10.4 s, total: 7min 32s\n",
      "Wall time: 7min 32s\n"
     ]
    }
   ],
   "source": [
    "%%time\n",
    "\n",
    "stdanompdo = []\n",
    "\n",
    "# Calculate the standardized anomalies and append them to a list\n",
    "for i in dailyskt.time.values:\n",
    "   \n",
    "    current = dailyskt.skt.sel(time=str(i)).mean(dim='lat').mean(dim='lon')\n",
    "    current_day = dt.datetime.strptime(str(current.time.values)[0:10], '%Y-%m-%d')\n",
    "    dayofyear = int(current_day.strftime('%j'))\n",
    "   \n",
    "    # Select the daily mean and daily standard deviation of skt\n",
    "    dailyskt_mn = meanskt.sel(dayofyear = dayofyear).mean(dim='lat').mean(dim='lon')\n",
    "    dailyskt_std = stdevskt.sel(dayofyear = dayofyear).mean(dim='lat').mean(dim='lon')\n",
    "   \n",
    "    # Calculate the standardized anomaly of skt and add to the list\n",
    "    stdanom = (current - dailyskt_mn.skt) / dailyskt_std.skt\n",
    "    stdanompdo.append(stdanom)\n",
    "\n",
    "# Add the standardized anomalies to the existing file\n",
    "dailyskt['pdostdanom']=('time', stdanompdo)"
   ]
  },
  {
   "cell_type": "markdown",
   "id": "0951a686-0351-46c1-ab98-4effb9423597",
   "metadata": {},
   "source": [
    "#### Save the index to its own file"
   ]
  },
  {
   "cell_type": "code",
   "execution_count": 6,
   "id": "3b89c41f-2da7-4ffa-8d93-8ef31097a345",
   "metadata": {},
   "outputs": [],
   "source": [
    "dailyskt.pdostdanom.to_netcdf(path='daily_PDO_1836_2015.nc')\n",
    "dailyskt.pdostdanom.to_netcdf(path='/home/scratch/20CR_v3/daily_PDO_1836_2015.nc')"
   ]
  },
  {
   "cell_type": "code",
   "execution_count": null,
   "id": "51d600d2-fcc5-4fd9-bc00-4f4bb1630f17",
   "metadata": {},
   "outputs": [],
   "source": []
  }
 ],
 "metadata": {
  "kernelspec": {
   "display_name": "Python [conda env:pyEAE]",
   "language": "python",
   "name": "conda-env-pyEAE-py"
  },
  "language_info": {
   "codemirror_mode": {
    "name": "ipython",
    "version": 3
   },
   "file_extension": ".py",
   "mimetype": "text/x-python",
   "name": "python",
   "nbconvert_exporter": "python",
   "pygments_lexer": "ipython3",
   "version": "3.9.0"
  }
 },
 "nbformat": 4,
 "nbformat_minor": 5
}
