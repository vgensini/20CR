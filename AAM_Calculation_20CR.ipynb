{
 "cells": [
  {
   "cell_type": "markdown",
   "id": "2091ba81-bb5f-4bb2-a596-4b543bb769c6",
   "metadata": {
    "tags": []
   },
   "source": [
    "# Calculate Earth-Relative Atmospheric Angular Momentum\n",
    "\n",
    "#### This notebook calculates earth-relative atmospheric angular momentum using data from the 20th Century Reanalysis Project Version 3 (https://psl.noaa.gov/data/20thC_Rean/). The zonal (u) wind data on constant pressure levels needed for this calculation is available at: https://psl.noaa.gov/thredds/catalog/Datasets/catalog.html.  "
   ]
  },
  {
   "cell_type": "code",
   "execution_count": 1,
   "id": "c4511094-cefd-4d0d-9b61-584b9c9cd88f",
   "metadata": {},
   "outputs": [],
   "source": [
    "# Import the needed Python libraries\n",
    "import xarray as xr\n",
    "import numpy as np\n",
    "import matplotlib.pyplot as plt\n",
    "import datetime as dt"
   ]
  },
  {
   "cell_type": "markdown",
   "id": "db6e2771-600d-49a5-a5ca-c7b8c135bf64",
   "metadata": {},
   "source": [
    "#### Global earth-relative AAM ($M_R$) can be calculated using the equation below:\n",
    "\n",
    "### $$ M_R = \\frac{a^3}{g} \\int_{-\\pi/2}^{\\pi/2} \\int_{0}^{2\\pi} \\int_{p_0}^{p} \\cos^{2} \\phi d\\phi d\\lambda udp $$\n",
    "\n",
    "#### where a is Earth’s radius in meters, g is the gravitational acceleration in $ms^{-2}$, $\\phi$ is latitude in radians, $\\lambda$ is longitude in radians, u is the zonal wind speed in $ms^{-1}$, and p is pressure in Pascals. Global relative AAM is calculated by integrating the zonal wind through the depth of the atmosphere over all latitudes and longitudes. The units of $M_R$ are $ kg \\cdot m^{2} \\cdot s^{-1}. $"
   ]
  },
  {
   "cell_type": "code",
   "execution_count": null,
   "id": "0f2d7c57-0aec-49f7-9ed6-b74a23eb3226",
   "metadata": {},
   "outputs": [],
   "source": [
    "# Define the constants\n",
    "gravity = 9.81 # gravitational acceleration; m/s^2\n",
    "a = 6371220. # Earth's radius; m\n",
    "\n",
    "# Convert the latitude and longitude deltas of 1.0 degrees (grid spacing of dataset) to radians\n",
    "dlat, dlon = np.deg2rad(1.0), np.deg2rad(1.0)\n",
    "\n",
    "# dp is the pressure difference in Pascals between subsequent 20CR vertical levels\n",
    "# The first & last pressure differences are set to zero as they are located at the integral bounds\n",
    "dps = [0.,500.,1000.,1000.,2000.,2000., 3000., 5000.,5000.,5000.,5000.,5000.,5000.,5000.,5000.,5000.,5000.,5000.,5000.,5000.,5000.,5000.,5000., 2500.,2500.,2500.,2500., 0.]"
   ]
  },
  {
   "cell_type": "markdown",
   "id": "a7c35d80-81e0-4fcf-9a2a-2c02bb135700",
   "metadata": {},
   "source": [
    "#### The calc_AAM function calculates AAM at each latitude and longitude for one year."
   ]
  },
  {
   "cell_type": "code",
   "execution_count": null,
   "id": "ef2988d6-6eb5-45c5-ace6-dd2a49b4ad78",
   "metadata": {},
   "outputs": [],
   "source": [
    "def calc_AAM(year):\n",
    "    \n",
    "    # Read in 1 year of 20CR u-wind data using Xarray, sort the pressure levels from low to high, change order of coordinates (makes dps array easier to create)\n",
    "    ds = xr.open_dataset(f'/home/scratch/20CR_v3/uwnd.{year}.nc')\n",
    "    ds = ds.sortby('level', ascending=True)\n",
    "    ds = ds.uwnd.transpose(\"lat\",\"lon\",\"time\",\"level\")\n",
    "    \n",
    "    # Use np.tile to create a NumPy array of the above dps values with the same shape as the variable uwnd\n",
    "    dprs = np.tile(dps, (181, 360, len(ds.time), 1)) \n",
    "    \n",
    "    # Convert dprs from a numpy array to an Xarray DataArray\n",
    "    dprs = xr.DataArray(dprs, dims=['lat', 'lon', 'time', 'level'])\n",
    "    \n",
    "    # Calculate udp (ds is the uwind speed; dprs are the pressure differences between levels)\n",
    "    UDP = ds * dprs  #units= m/s * Pa = kg/s^3\n",
    "    \n",
    "    # Vertical integral of UDP\n",
    "    vint_UDP = UDP.sum(dim='level') #units = kg/s^3\n",
    "    \n",
    "    # Calculate Earth-relative AAM at each latitude & longitude; units: kgs^-3 * m^3/ms^-2 = kgm^2s^-1 (angular momentum)\n",
    "    Mr_by_latlon = vint_UDP * np.cos(np.deg2rad(ds.lat))**2 * dlat * dlon * a**3 / gravity\n",
    "    ds.close()\n",
    "\n",
    "    # Write the Xarray dataset Mr_by_latlon to a netcdf file\n",
    "    Mr_by_latlon.to_netcdf(f'/home/scratch/20CR_v3/AAM_{year}.nc')\n",
    "      \n",
    "    del Mr\n",
    "    del UDP\n",
    "    del vint_UDP\n",
    "    return year"
   ]
  },
  {
   "cell_type": "markdown",
   "id": "92091a11-6857-4153-89a1-c83b9b5d450f",
   "metadata": {},
   "source": [
    "#### Calculate AAM for the full 20th Century Reanalysis V3 dataset (1836-2015) using multiprocessing."
   ]
  },
  {
   "cell_type": "code",
   "execution_count": null,
   "id": "e76d474f-6165-449a-b199-baca3ce2f415",
   "metadata": {},
   "outputs": [],
   "source": [
    "years = np.arange(1836,2016,1)\n",
    "#from multiprocessing import Pool\n",
    "#pool = Pool(10)      # Create a multiprocessing Pool\n",
    "#pool.map(calc_AAM, years)"
   ]
  },
  {
   "cell_type": "markdown",
   "id": "afb1db1a-bc74-4a8a-b05c-9699b50d6ff9",
   "metadata": {},
   "source": [
    "#### Combine all the yearly AAM files into a single NetCDF."
   ]
  },
  {
   "cell_type": "code",
   "execution_count": null,
   "id": "b50a791d-542d-4d50-936e-2c87b639c89a",
   "metadata": {},
   "outputs": [],
   "source": [
    "# Open AAM files for all years in the 20CR dataset, concatenate them, and rename the data variable\n",
    "ds = xr.open_mfdataset('/home/scratch/20CR_v3/AAM_*.nc')\n",
    "ds = ds.rename(name_dict={'__xarray_dataarray_variable__': 'Mr_by_latlon'})\n",
    "ds"
   ]
  },
  {
   "cell_type": "markdown",
   "id": "9436bfc0-daa9-4096-9cd0-3ec25a33f19b",
   "metadata": {},
   "source": [
    "#### Calculate AAM by latitude and total/global AAM. "
   ]
  },
  {
   "cell_type": "code",
   "execution_count": null,
   "id": "976b25be-5733-4e1d-9d88-d571d58d773a",
   "metadata": {},
   "outputs": [],
   "source": [
    "# Sum AAM across the longitude dimension to get AAM by latitude; add to the Xarray dataset\n",
    "Mr_by_lat = ds.Mr_by_latlon.sum(dim='lon')\n",
    "ds['Mr_by_lat'] = Mr_by_lat\n",
    "\n",
    "# Calculate global/total AAM by summing AAM across all latitudes; add to the Xarray dataset\n",
    "Mr = Mr_by_lat.sum(dim='lat')\n",
    "ds['Mr'] = Mr\n",
    "ds"
   ]
  },
  {
   "cell_type": "markdown",
   "id": "db99d08d-ce1f-41d5-aa18-f723f1f9095e",
   "metadata": {},
   "source": [
    "#### Calculate the standardized anomalies of global AAM. "
   ]
  },
  {
   "cell_type": "code",
   "execution_count": null,
   "id": "1318500b-244c-4872-96a3-1187d5e23218",
   "metadata": {},
   "outputs": [],
   "source": [
    "# Calculate daily mean Mr\n",
    "Mr_daily_mean = ds.Mr.groupby('time.dayofyear').mean(dim='time')\n",
    "\n",
    "# Calculate the daily standard deviation of Mr\n",
    "Mr_daily_stdev = ds.Mr.groupby('time.dayofyear').std(dim='time')"
   ]
  },
  {
   "cell_type": "code",
   "execution_count": null,
   "id": "01e9b7f2-f8eb-4522-a59d-95754e4f5ee9",
   "metadata": {},
   "outputs": [],
   "source": [
    "stdanom = []\n",
    "\n",
    "# Calculate the standardized anomalies for the full dataset period; append them to a list\n",
    "for i in ds.time.values:\n",
    "    \n",
    "    Mr_current = ds.Mr.sel(time=str(i))\n",
    "    current_day = dt.datetime.strptime(str(Mr_current.time.values)[0:10], '%Y-%m-%d')\n",
    "    dayofyear = int(current_day.strftime('%j'))\n",
    "    \n",
    "    # Select the daily mean and daily standard deviation of Mr\n",
    "    Mr_daily_mn = Mr_daily_mean.sel(dayofyear = dayofyear)\n",
    "    Mr_daily_std = Mr_daily_stdev.sel(dayofyear = dayofyear)\n",
    "    \n",
    "    # Calculate the standardized anomaly of Mr\n",
    "    Mr_stdanom = (Mr_current.values - Mr_daily_mn.values) / Mr_daily_std.values\n",
    "\n",
    "    stdanom.append(Mr_stdanom)"
   ]
  },
  {
   "cell_type": "code",
   "execution_count": null,
   "id": "254ff1a4-3b1d-403d-babd-0a0c7c7205b9",
   "metadata": {},
   "outputs": [],
   "source": [
    "# Add standardized anomalies to the Xarray dataset\n",
    "ds['Mr_stdanom'] = ('time', stdanom)\n",
    "ds"
   ]
  },
  {
   "cell_type": "markdown",
   "id": "e81b8235-af88-45a5-bc98-6cd7d940b505",
   "metadata": {},
   "source": [
    "#### Create a NetCDF file containing Mr_by_latlon, Mr_by_lat, Mr, and the standardized anomalies of Mr for the full 20CR period."
   ]
  },
  {
   "cell_type": "code",
   "execution_count": null,
   "id": "57d549ad-f30c-4ba3-b294-8a6155fe25d8",
   "metadata": {},
   "outputs": [],
   "source": [
    "# Create a netcdf file from the Xarray dataset containing Mr_by_latlon, Mr_by_lat, Mr, & standardized anomalies of Mr\n",
    "ds.to_netcdf('/home/scratch/20CR_v3/AAM_1836_2015.nc')"
   ]
  }
 ],
 "metadata": {
  "kernelspec": {
   "display_name": "Python [conda env:pyEAE]",
   "language": "python",
   "name": "conda-env-pyEAE-py"
  },
  "language_info": {
   "codemirror_mode": {
    "name": "ipython",
    "version": 3
   },
   "file_extension": ".py",
   "mimetype": "text/x-python",
   "name": "python",
   "nbconvert_exporter": "python",
   "pygments_lexer": "ipython3",
   "version": "3.9.0"
  }
 },
 "nbformat": 4,
 "nbformat_minor": 5
}
